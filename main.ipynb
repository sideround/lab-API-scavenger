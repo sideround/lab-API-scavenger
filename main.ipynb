{
 "cells": [
  {
   "cell_type": "code",
   "execution_count": 2,
   "metadata": {},
   "outputs": [],
   "source": [
    "github_token = \"684d289e22bfde390f5780e603710f864c84c115\"\n",
    "repo = \"ironhack-datalabs/madrid-oct-2018\""
   ]
  },
  {
   "cell_type": "code",
   "execution_count": 3,
   "metadata": {},
   "outputs": [],
   "source": [
    "import json\n",
    "import requests\n",
    "import pandas as pd\n",
    "from pandas.io.json import json_normalize"
   ]
  },
  {
   "cell_type": "markdown",
   "metadata": {},
   "source": [
    "# Challenge 1"
   ]
  },
  {
   "cell_type": "markdown",
   "metadata": {},
   "source": [
    "1. Obtain the full list of forks created from the main lab repo via Github API."
   ]
  },
  {
   "cell_type": "code",
   "execution_count": 4,
   "metadata": {},
   "outputs": [],
   "source": [
    "headers = {\"User-Agent\": \"Mozilla/5.0 (Macintosh; Intel Mac OS X 10_15_1) AppleWebKit/605.1.15 (KHTML, like Gecko) Version/13.0.3 Safari/605.1.15\" }  \n",
    "url = f\"https://api.github.com/repos/{repo}/forks?access_token={github_token}\""
   ]
  },
  {
   "cell_type": "code",
   "execution_count": 5,
   "metadata": {},
   "outputs": [
    {
     "data": {
      "text/html": [
       "<div>\n",
       "<style scoped>\n",
       "    .dataframe tbody tr th:only-of-type {\n",
       "        vertical-align: middle;\n",
       "    }\n",
       "\n",
       "    .dataframe tbody tr th {\n",
       "        vertical-align: top;\n",
       "    }\n",
       "\n",
       "    .dataframe thead th {\n",
       "        text-align: right;\n",
       "    }\n",
       "</style>\n",
       "<table border=\"1\" class=\"dataframe\">\n",
       "  <thead>\n",
       "    <tr style=\"text-align: right;\">\n",
       "      <th></th>\n",
       "      <th>id</th>\n",
       "      <th>node_id</th>\n",
       "      <th>name</th>\n",
       "      <th>full_name</th>\n",
       "      <th>private</th>\n",
       "      <th>html_url</th>\n",
       "      <th>description</th>\n",
       "      <th>fork</th>\n",
       "      <th>url</th>\n",
       "      <th>forks_url</th>\n",
       "      <th>...</th>\n",
       "      <th>owner.site_admin</th>\n",
       "      <th>license.key</th>\n",
       "      <th>license.name</th>\n",
       "      <th>license.spdx_id</th>\n",
       "      <th>license.url</th>\n",
       "      <th>license.node_id</th>\n",
       "      <th>permissions.admin</th>\n",
       "      <th>permissions.push</th>\n",
       "      <th>permissions.pull</th>\n",
       "      <th>license</th>\n",
       "    </tr>\n",
       "  </thead>\n",
       "  <tbody>\n",
       "    <tr>\n",
       "      <td>0</td>\n",
       "      <td>220066216</td>\n",
       "      <td>MDEwOlJlcG9zaXRvcnkyMjAwNjYyMTY=</td>\n",
       "      <td>mad-oct-2018</td>\n",
       "      <td>ToniPons97/mad-oct-2018</td>\n",
       "      <td>False</td>\n",
       "      <td>https://github.com/ToniPons97/mad-oct-2018</td>\n",
       "      <td>Student labs for Ironhack data analytics bootcamp</td>\n",
       "      <td>True</td>\n",
       "      <td>https://api.github.com/repos/ToniPons97/mad-oc...</td>\n",
       "      <td>https://api.github.com/repos/ToniPons97/mad-oc...</td>\n",
       "      <td>...</td>\n",
       "      <td>False</td>\n",
       "      <td>unlicense</td>\n",
       "      <td>The Unlicense</td>\n",
       "      <td>Unlicense</td>\n",
       "      <td>https://api.github.com/licenses/unlicense</td>\n",
       "      <td>MDc6TGljZW5zZTE1</td>\n",
       "      <td>False</td>\n",
       "      <td>False</td>\n",
       "      <td>True</td>\n",
       "      <td>NaN</td>\n",
       "    </tr>\n",
       "    <tr>\n",
       "      <td>1</td>\n",
       "      <td>204100911</td>\n",
       "      <td>MDEwOlJlcG9zaXRvcnkyMDQxMDA5MTE=</td>\n",
       "      <td>mad-oct-2018</td>\n",
       "      <td>rsennes/mad-oct-2018</td>\n",
       "      <td>False</td>\n",
       "      <td>https://github.com/rsennes/mad-oct-2018</td>\n",
       "      <td>Student labs for Ironhack data analytics bootcamp</td>\n",
       "      <td>True</td>\n",
       "      <td>https://api.github.com/repos/rsennes/mad-oct-2018</td>\n",
       "      <td>https://api.github.com/repos/rsennes/mad-oct-2...</td>\n",
       "      <td>...</td>\n",
       "      <td>False</td>\n",
       "      <td>unlicense</td>\n",
       "      <td>The Unlicense</td>\n",
       "      <td>Unlicense</td>\n",
       "      <td>https://api.github.com/licenses/unlicense</td>\n",
       "      <td>MDc6TGljZW5zZTE1</td>\n",
       "      <td>False</td>\n",
       "      <td>False</td>\n",
       "      <td>True</td>\n",
       "      <td>NaN</td>\n",
       "    </tr>\n",
       "    <tr>\n",
       "      <td>2</td>\n",
       "      <td>200138127</td>\n",
       "      <td>MDEwOlJlcG9zaXRvcnkyMDAxMzgxMjc=</td>\n",
       "      <td>mad-oct-2018</td>\n",
       "      <td>gggfaria/mad-oct-2018</td>\n",
       "      <td>False</td>\n",
       "      <td>https://github.com/gggfaria/mad-oct-2018</td>\n",
       "      <td>Student labs for Ironhack data analytics bootcamp</td>\n",
       "      <td>True</td>\n",
       "      <td>https://api.github.com/repos/gggfaria/mad-oct-...</td>\n",
       "      <td>https://api.github.com/repos/gggfaria/mad-oct-...</td>\n",
       "      <td>...</td>\n",
       "      <td>False</td>\n",
       "      <td>unlicense</td>\n",
       "      <td>The Unlicense</td>\n",
       "      <td>Unlicense</td>\n",
       "      <td>https://api.github.com/licenses/unlicense</td>\n",
       "      <td>MDc6TGljZW5zZTE1</td>\n",
       "      <td>False</td>\n",
       "      <td>False</td>\n",
       "      <td>True</td>\n",
       "      <td>NaN</td>\n",
       "    </tr>\n",
       "    <tr>\n",
       "      <td>3</td>\n",
       "      <td>198273438</td>\n",
       "      <td>MDEwOlJlcG9zaXRvcnkxOTgyNzM0Mzg=</td>\n",
       "      <td>mad-oct-2018</td>\n",
       "      <td>nancyulric/mad-oct-2018</td>\n",
       "      <td>False</td>\n",
       "      <td>https://github.com/nancyulric/mad-oct-2018</td>\n",
       "      <td>Student labs for Ironhack data analytics bootcamp</td>\n",
       "      <td>True</td>\n",
       "      <td>https://api.github.com/repos/nancyulric/mad-oc...</td>\n",
       "      <td>https://api.github.com/repos/nancyulric/mad-oc...</td>\n",
       "      <td>...</td>\n",
       "      <td>False</td>\n",
       "      <td>unlicense</td>\n",
       "      <td>The Unlicense</td>\n",
       "      <td>Unlicense</td>\n",
       "      <td>https://api.github.com/licenses/unlicense</td>\n",
       "      <td>MDc6TGljZW5zZTE1</td>\n",
       "      <td>False</td>\n",
       "      <td>False</td>\n",
       "      <td>True</td>\n",
       "      <td>NaN</td>\n",
       "    </tr>\n",
       "    <tr>\n",
       "      <td>4</td>\n",
       "      <td>167001044</td>\n",
       "      <td>MDEwOlJlcG9zaXRvcnkxNjcwMDEwNDQ=</td>\n",
       "      <td>datamad0119</td>\n",
       "      <td>lmartinezruizit/datamad0119</td>\n",
       "      <td>False</td>\n",
       "      <td>https://github.com/lmartinezruizit/datamad0119</td>\n",
       "      <td>Student labs for Ironhack data analytics bootcamp</td>\n",
       "      <td>True</td>\n",
       "      <td>https://api.github.com/repos/lmartinezruizit/d...</td>\n",
       "      <td>https://api.github.com/repos/lmartinezruizit/d...</td>\n",
       "      <td>...</td>\n",
       "      <td>False</td>\n",
       "      <td>unlicense</td>\n",
       "      <td>The Unlicense</td>\n",
       "      <td>Unlicense</td>\n",
       "      <td>https://api.github.com/licenses/unlicense</td>\n",
       "      <td>MDc6TGljZW5zZTE1</td>\n",
       "      <td>False</td>\n",
       "      <td>False</td>\n",
       "      <td>True</td>\n",
       "      <td>NaN</td>\n",
       "    </tr>\n",
       "  </tbody>\n",
       "</table>\n",
       "<p>5 rows × 98 columns</p>\n",
       "</div>"
      ],
      "text/plain": [
       "          id                           node_id          name  \\\n",
       "0  220066216  MDEwOlJlcG9zaXRvcnkyMjAwNjYyMTY=  mad-oct-2018   \n",
       "1  204100911  MDEwOlJlcG9zaXRvcnkyMDQxMDA5MTE=  mad-oct-2018   \n",
       "2  200138127  MDEwOlJlcG9zaXRvcnkyMDAxMzgxMjc=  mad-oct-2018   \n",
       "3  198273438  MDEwOlJlcG9zaXRvcnkxOTgyNzM0Mzg=  mad-oct-2018   \n",
       "4  167001044  MDEwOlJlcG9zaXRvcnkxNjcwMDEwNDQ=   datamad0119   \n",
       "\n",
       "                     full_name  private  \\\n",
       "0      ToniPons97/mad-oct-2018    False   \n",
       "1         rsennes/mad-oct-2018    False   \n",
       "2        gggfaria/mad-oct-2018    False   \n",
       "3      nancyulric/mad-oct-2018    False   \n",
       "4  lmartinezruizit/datamad0119    False   \n",
       "\n",
       "                                         html_url  \\\n",
       "0      https://github.com/ToniPons97/mad-oct-2018   \n",
       "1         https://github.com/rsennes/mad-oct-2018   \n",
       "2        https://github.com/gggfaria/mad-oct-2018   \n",
       "3      https://github.com/nancyulric/mad-oct-2018   \n",
       "4  https://github.com/lmartinezruizit/datamad0119   \n",
       "\n",
       "                                         description  fork  \\\n",
       "0  Student labs for Ironhack data analytics bootcamp  True   \n",
       "1  Student labs for Ironhack data analytics bootcamp  True   \n",
       "2  Student labs for Ironhack data analytics bootcamp  True   \n",
       "3  Student labs for Ironhack data analytics bootcamp  True   \n",
       "4  Student labs for Ironhack data analytics bootcamp  True   \n",
       "\n",
       "                                                 url  \\\n",
       "0  https://api.github.com/repos/ToniPons97/mad-oc...   \n",
       "1  https://api.github.com/repos/rsennes/mad-oct-2018   \n",
       "2  https://api.github.com/repos/gggfaria/mad-oct-...   \n",
       "3  https://api.github.com/repos/nancyulric/mad-oc...   \n",
       "4  https://api.github.com/repos/lmartinezruizit/d...   \n",
       "\n",
       "                                           forks_url  ... owner.site_admin  \\\n",
       "0  https://api.github.com/repos/ToniPons97/mad-oc...  ...            False   \n",
       "1  https://api.github.com/repos/rsennes/mad-oct-2...  ...            False   \n",
       "2  https://api.github.com/repos/gggfaria/mad-oct-...  ...            False   \n",
       "3  https://api.github.com/repos/nancyulric/mad-oc...  ...            False   \n",
       "4  https://api.github.com/repos/lmartinezruizit/d...  ...            False   \n",
       "\n",
       "  license.key   license.name license.spdx_id  \\\n",
       "0   unlicense  The Unlicense       Unlicense   \n",
       "1   unlicense  The Unlicense       Unlicense   \n",
       "2   unlicense  The Unlicense       Unlicense   \n",
       "3   unlicense  The Unlicense       Unlicense   \n",
       "4   unlicense  The Unlicense       Unlicense   \n",
       "\n",
       "                                 license.url   license.node_id  \\\n",
       "0  https://api.github.com/licenses/unlicense  MDc6TGljZW5zZTE1   \n",
       "1  https://api.github.com/licenses/unlicense  MDc6TGljZW5zZTE1   \n",
       "2  https://api.github.com/licenses/unlicense  MDc6TGljZW5zZTE1   \n",
       "3  https://api.github.com/licenses/unlicense  MDc6TGljZW5zZTE1   \n",
       "4  https://api.github.com/licenses/unlicense  MDc6TGljZW5zZTE1   \n",
       "\n",
       "  permissions.admin permissions.push permissions.pull license  \n",
       "0             False            False             True     NaN  \n",
       "1             False            False             True     NaN  \n",
       "2             False            False             True     NaN  \n",
       "3             False            False             True     NaN  \n",
       "4             False            False             True     NaN  \n",
       "\n",
       "[5 rows x 98 columns]"
      ]
     },
     "execution_count": 5,
     "metadata": {},
     "output_type": "execute_result"
    }
   ],
   "source": [
    "json = requests.get(url, headers=headers).json()\n",
    "forks_normalize = json_normalize(json)\n",
    "forks_normalize.head()"
   ]
  },
  {
   "cell_type": "markdown",
   "metadata": {},
   "source": [
    "2. Loop the JSON response to find out the language attribute of each fork. Use an array to store the language attributes of each fork."
   ]
  },
  {
   "cell_type": "code",
   "execution_count": 6,
   "metadata": {},
   "outputs": [],
   "source": [
    "language_forks = set(forks_normalize[\"language\"])"
   ]
  },
  {
   "cell_type": "markdown",
   "metadata": {},
   "source": [
    "3. Print the language array. It should be something like:"
   ]
  },
  {
   "cell_type": "code",
   "execution_count": 7,
   "metadata": {},
   "outputs": [
    {
     "data": {
      "text/plain": [
       "{'HTML', 'Jupyter Notebook', None, 'Python'}"
      ]
     },
     "execution_count": 7,
     "metadata": {},
     "output_type": "execute_result"
    }
   ],
   "source": [
    "language_forks"
   ]
  },
  {
   "cell_type": "markdown",
   "metadata": {},
   "source": [
    "# Challenge 2"
   ]
  },
  {
   "cell_type": "markdown",
   "metadata": {},
   "source": [
    "1. Obtain all the commits made in the past week via API, which is a JSON array that contains multiple commit objects."
   ]
  },
  {
   "cell_type": "code",
   "execution_count": 8,
   "metadata": {},
   "outputs": [],
   "source": [
    "headers = {\"User-Agent\": \"Mozilla/5.0 (Macintosh; Intel Mac OS X 10_15_1) AppleWebKit/605.1.15 (KHTML, like Gecko) Version/13.0.3 Safari/605.1.15\" }  \n",
    "url = f\"https://api.github.com/repos/{repo}/commits?access_token={github_token}&since=2020-02-01\""
   ]
  },
  {
   "cell_type": "code",
   "execution_count": 9,
   "metadata": {},
   "outputs": [],
   "source": [
    "json = requests.get(url, headers=headers).json()\n",
    "forks_normalize = json_normalize(json)"
   ]
  },
  {
   "cell_type": "markdown",
   "metadata": {},
   "source": [
    "2. Count how many commit objects are contained in the array.\n"
   ]
  },
  {
   "cell_type": "code",
   "execution_count": 10,
   "metadata": {},
   "outputs": [
    {
     "data": {
      "text/plain": [
       "(0, 0)"
      ]
     },
     "execution_count": 10,
     "metadata": {},
     "output_type": "execute_result"
    }
   ],
   "source": [
    "forks_normalize.shape"
   ]
  },
  {
   "cell_type": "markdown",
   "metadata": {},
   "source": [
    "# Challenge 3"
   ]
  },
  {
   "cell_type": "code",
   "execution_count": null,
   "metadata": {},
   "outputs": [],
   "source": []
  }
 ],
 "metadata": {
  "kernelspec": {
   "display_name": "Python 3",
   "language": "python",
   "name": "python3"
  }
 },
 "nbformat": 4,
 "nbformat_minor": 2
}
